{
 "cells": [
  {
   "cell_type": "markdown",
   "metadata": {},
   "source": ["# GARCH Models\n", "**FinRisk Analytics - Project 2**\n\n", "Fit GARCH, EGARCH, GJR-GARCH models."]
  },
  {
   "cell_type": "code",
   "execution_count": null,
   "metadata": {},
   "outputs": [],
   "source": ["import sys\n", "sys.path.append('..')\n\n", "from src.models.garch_models import GARCHVolatility, EGARCHVolatility\n\n", "print('✅ Ready for GARCH modeling!')"]
  }
 ],
 "metadata": {"kernelspec": {"display_name": "Python 3", "language": "python", "name": "python3"}},
 "nbformat": 4,
 "nbformat_minor": 4
}
