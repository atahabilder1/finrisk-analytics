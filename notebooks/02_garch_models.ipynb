{
 "cells": [
  {
   "cell_type": "markdown",
   "metadata": {},
   "source": [
    "# GARCH Models\n",
    "**FinRisk Analytics - Project 2**\n",
    "\n",
    "Fit GARCH, EGARCH, GJR-GARCH models."
   ]
  },
  {
   "cell_type": "code",
   "execution_count": null,
   "metadata": {},
   "source": [
    "import sys\n",
    "sys.path.append('..')\n",
    "\n",
    "import pandas as pd\n",
    "import numpy as np\n",
    "import matplotlib.pyplot as plt\n",
    "import yaml\n",
    "\n",
    "from src.data.fetch_data import load_data\n",
    "from src.data.preprocess import prepare_returns, align_returns\n",
    "from src.models.garch_models import GARCHVolatility, EGARCHVolatility, GJRGARCHVolatility, compare_garch_models\n",
    "from src.utils.plotting import plot_volatility, plot_model_comparison, ensure_plot_dir\n",
    "\n",
    "with open('../configs/config.yaml', 'r') as f:\n",
    "    config = yaml.safe_load(f)\n",
    "\n",
    "print('✅ Ready for GARCH modeling!')"
   ]
  },
  {
   "cell_type": "code",
   "execution_count": null,
   "metadata": {},
   "source": [
    "# Load returns data\n",
    "case_studies = config['assets']['case_studies']\n",
    "price_data = {}\n",
    "\n",
    "for ticker in case_studies:\n",
    "    df = load_data(ticker, data_dir='../data/raw')\n",
    "    if df is not None:\n",
    "        price_data[ticker] = df\n",
    "\n",
    "returns_dict = prepare_returns(price_data)\n",
    "returns_df = align_returns(returns_dict)\n",
    "returns_df.head()"
   ]
  },
  {
   "cell_type": "code",
   "execution_count": null,
   "metadata": {},
   "source": [
    "## Model Comparison\n",
    "# Compare GARCH family models on each asset\n",
    "\n",
    "ensure_plot_dir('../results/plots')\n",
    "\n",
    "for ticker in returns_df.columns:\n",
    "    print(f\"\\n{'='*60}\")\n",
    "    print(f\"Fitting GARCH models for {ticker}\")\n",
    "    print('='*60)\n",
    "    \n",
    "    returns = returns_df[ticker]\n",
    "    \n",
    "    # Compare models\n",
    "    comparison = compare_garch_models(returns)\n",
    "    print(f\"\\nModel Comparison for {ticker}:\")\n",
    "    print(comparison)\n",
    "    \n",
    "    # Fit each model and get forecasts\n",
    "    garch = GARCHVolatility()\n",
    "    garch.fit(returns)\n",
    "    \n",
    "    egarch = EGARCHVolatility()\n",
    "    egarch.fit(returns)\n",
    "    \n",
    "    gjr = GJRGARCHVolatility()\n",
    "    gjr.fit(returns)\n",
    "    \n",
    "    print(f\"\\n✅ Models fitted for {ticker}\")"
   ]
  },
  {
   "cell_type": "code",
   "execution_count": null,
   "metadata": {},
   "source": [
    "## Rolling Volatility Forecasts\n",
    "# Generate rolling forecasts using GARCH\n",
    "\n",
    "ticker = 'SPY'  # Focus on SPY as example\n",
    "returns = returns_df[ticker]\n",
    "\n",
    "print(f\"Generating rolling forecasts for {ticker}...\")\n",
    "\n",
    "# GARCH forecasts\n",
    "garch = GARCHVolatility()\n",
    "garch_forecasts = garch.rolling_forecast(returns, window=252, refit_freq=20)\n",
    "\n",
    "# EGARCH forecasts\n",
    "egarch = EGARCHVolatility()\n",
    "egarch_forecasts = egarch.rolling_forecast(returns, window=252, refit_freq=20)\n",
    "\n",
    "# Calculate realized volatility\n",
    "realized_vol = returns.rolling(window=20).std() * np.sqrt(252)\n",
    "\n",
    "# Plot comparison\n",
    "predictions = {\n",
    "    'GARCH': garch_forecasts,\n",
    "    'EGARCH': egarch_forecasts\n",
    "}\n",
    "\n",
    "fig, ax = plot_model_comparison(\n",
    "    realized_vol.loc[garch_forecasts.index],\n",
    "    predictions,\n",
    "    title=f'{ticker} - Volatility Forecast Comparison',\n",
    "    save_path=f'../results/plots/{ticker}_garch_comparison.png'\n",
    ")\n",
    "plt.show()\n",
    "\n",
    "print(\"\\n✅ GARCH Analysis Complete!\")"
   ]
  }
 ],
 "metadata": {
  "kernelspec": {
   "display_name": "Python 3",
   "language": "python",
   "name": "python3"
  }
 },
 "nbformat": 4,
 "nbformat_minor": 4
}
