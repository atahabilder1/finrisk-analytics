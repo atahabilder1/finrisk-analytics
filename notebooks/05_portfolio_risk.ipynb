{
 "cells": [
  {
   "cell_type": "markdown",
   "metadata": {},
   "source": ["# Portfolio Risk Analysis\n", "**FinRisk Analytics - Project 2**\n\n", "Multi-asset risk metrics and correlation analysis."]
  },
  {
   "cell_type": "code",
   "execution_count": null,
   "metadata": {},
   "outputs": [],
   "source": ["import sys\n", "sys.path.append('..')\n\n", "from src.correlation.correlation_analysis import *\n\n", "print('✅ Ready for portfolio risk analysis!')"]
  }
 ],
 "metadata": {"kernelspec": {"display_name": "Python 3", "language": "python", "name": "python3"}},
 "nbformat": 4,
 "nbformat_minor": 4
}
