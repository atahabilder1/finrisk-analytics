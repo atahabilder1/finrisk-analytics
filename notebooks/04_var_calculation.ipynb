{
 "cells": [
  {
   "cell_type": "markdown",
   "metadata": {},
   "source": ["# Value-at-Risk Calculation\n", "**FinRisk Analytics - Project 2**\n\n", "Calculate and backtest VaR using multiple methods."]
  },
  {
   "cell_type": "code",
   "execution_count": null,
   "metadata": {},
   "outputs": [],
   "source": ["import sys\n", "sys.path.append('..')\n\n", "from src.risk.var_calculator import VaRCalculator\n", "from src.risk.backtester import VaRBacktester\n\n", "print('✅ Ready for VaR analysis!')"]
  }
 ],
 "metadata": {"kernelspec": {"display_name": "Python 3", "language": "python", "name": "python3"}},
 "nbformat": 4,
 "nbformat_minor": 4
}
