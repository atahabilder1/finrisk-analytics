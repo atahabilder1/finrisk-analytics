{
 "cells": [
  {
   "cell_type": "markdown",
   "metadata": {},
   "source": ["# LSTM Volatility Models\n", "**FinRisk Analytics - Project 2**\n\n", "Train LSTM models for volatility forecasting."]
  },
  {
   "cell_type": "code",
   "execution_count": null,
   "metadata": {},
   "outputs": [],
   "source": ["import sys\n", "sys.path.append('..')\n\n", "from src.models.lstm_volatility import LSTMVolatility\n\n", "print('✅ Ready for LSTM modeling!')"]
  }
 ],
 "metadata": {"kernelspec": {"display_name": "Python 3", "language": "python", "name": "python3"}},
 "nbformat": 4,
 "nbformat_minor": 4
}
